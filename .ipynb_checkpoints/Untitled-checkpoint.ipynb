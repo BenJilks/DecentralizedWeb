{
 "cells": [
  {
   "cell_type": "code",
   "execution_count": 12,
   "id": "4c3a6567",
   "metadata": {},
   "outputs": [
    {
     "name": "stdout",
     "output_type": "stream",
     "text": [
      "00FFFF0000000000000000000000000000000000000000000000000000000000\n"
     ]
    }
   ],
   "source": [
    "def target(a: int, b: int) -> int:\n",
    "    return a << ((b - 3)*8)\n",
    "\n",
    "t_1 = target(0x00FFFF, 0x20)\n",
    "print('{:064x}'.format(t_1).upper())"
   ]
  },
  {
   "cell_type": "code",
   "execution_count": 55,
   "id": "835da5b9",
   "metadata": {},
   "outputs": [
    {
     "name": "stdout",
     "output_type": "stream",
     "text": [
      "0000000000000000000000001234560000000000000000000000000000000000\n"
     ]
    }
   ],
   "source": [
    "print('{:064x}'.format(target(0x123456, 0x14)))"
   ]
  },
  {
   "cell_type": "code",
   "execution_count": 56,
   "id": "97ce17cb",
   "metadata": {},
   "outputs": [
    {
     "name": "stdout",
     "output_type": "stream",
     "text": [
      "1.0\n"
     ]
    }
   ],
   "source": [
    "def diff(target: int) -> float:\n",
    "    return t_1 / target\n",
    "\n",
    "print(diff(t_1))"
   ]
  },
  {
   "cell_type": "code",
   "execution_count": 57,
   "id": "2d057ec1",
   "metadata": {},
   "outputs": [
    {
     "name": "stdout",
     "output_type": "stream",
     "text": [
      "256.0\n"
     ]
    }
   ],
   "source": [
    "print(diff(target(0x00FFFF, 0x1F)))"
   ]
  },
  {
   "cell_type": "code",
   "execution_count": 58,
   "id": "539f9a36",
   "metadata": {},
   "outputs": [
    {
     "name": "stdout",
     "output_type": "stream",
     "text": [
      "3600.206008583691\n"
     ]
    }
   ],
   "source": [
    "print(diff(target(0x001234, 0x1F)))"
   ]
  },
  {
   "cell_type": "code",
   "execution_count": 59,
   "id": "7a80ec05",
   "metadata": {},
   "outputs": [
    {
     "name": "stdout",
     "output_type": "stream",
     "text": [
      "3.6458825027243406e+38\n"
     ]
    }
   ],
   "source": [
    "print(diff(target(0x00EEEE, 0x10)))"
   ]
  },
  {
   "cell_type": "code",
   "execution_count": 60,
   "id": "7bf19cdf",
   "metadata": {},
   "outputs": [
    {
     "name": "stdout",
     "output_type": "stream",
     "text": [
      "0000ffff00000000000000000000000000000000000000000000000000000000\n"
     ]
    }
   ],
   "source": [
    "def target_from_diff(diff: float) -> int:\n",
    "    return int(t_1 / diff)\n",
    "\n",
    "print('{:064x}'.format(target_from_diff(256.0)))"
   ]
  },
  {
   "cell_type": "code",
   "execution_count": 61,
   "id": "0f3fa55a",
   "metadata": {
    "scrolled": false
   },
   "outputs": [
    {
     "name": "stdout",
     "output_type": "stream",
     "text": [
      "256.00390630960555\n",
      "65537.00001525902\n"
     ]
    }
   ],
   "source": [
    "def hash_rate(target: int, time_secs: float) -> float:\n",
    "    chance_for_correct_hash = target / 2**(32*8)\n",
    "    how_many_hashes_to_find_block = 1 / chance_for_correct_hash\n",
    "    hash_rate = how_many_hashes_to_find_block / time_secs\n",
    "    return hash_rate\n",
    "\n",
    "print(hash_rate(t_1, 1))\n",
    "print(hash_rate(target(0x00FFFF, 0x1F), 1))"
   ]
  },
  {
   "cell_type": "code",
   "execution_count": 2,
   "id": "0d6cf458",
   "metadata": {},
   "outputs": [
    {
     "name": "stdout",
     "output_type": "stream",
     "text": [
      "0000000000000000000000000000000000000000000000000000000000000015\n"
     ]
    }
   ],
   "source": [
    "def target_for_hash_rate(hash_rate: float) -> int:\n",
    "    hash_rate * time_secs * target = 2**(32*8)\n",
    "    return hash_rate\n",
    "\n",
    "print('{:064x}'.format(target_for_hash_rate(256.0)))"
   ]
  },
  {
   "cell_type": "code",
   "execution_count": null,
   "id": "18904497",
   "metadata": {},
   "outputs": [],
   "source": []
  }
 ],
 "metadata": {
  "kernelspec": {
   "display_name": "Python 3 (ipykernel)",
   "language": "python",
   "name": "python3"
  },
  "language_info": {
   "codemirror_mode": {
    "name": "ipython",
    "version": 3
   },
   "file_extension": ".py",
   "mimetype": "text/x-python",
   "name": "python",
   "nbconvert_exporter": "python",
   "pygments_lexer": "ipython3",
   "version": "3.9.6"
  }
 },
 "nbformat": 4,
 "nbformat_minor": 5
}
